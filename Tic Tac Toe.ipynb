{
 "cells": [
  {
   "cell_type": "code",
   "execution_count": 1,
   "id": "10362dff",
   "metadata": {},
   "outputs": [],
   "source": [
    "#Tic Tac Toe Game\n",
    "#Created for 2 playes on same computer"
   ]
  },
  {
   "cell_type": "code",
   "execution_count": 2,
   "id": "3dcfa681",
   "metadata": {},
   "outputs": [],
   "source": [
    "#i have used a numpad to match numbers to the game grid"
   ]
  },
  {
   "cell_type": "code",
   "execution_count": 3,
   "id": "b970deb7",
   "metadata": {},
   "outputs": [],
   "source": [
    "#Step1 = creating a board and clearing the output"
   ]
  },
  {
   "cell_type": "code",
   "execution_count": 93,
   "id": "74d083b6",
   "metadata": {},
   "outputs": [],
   "source": [
    "from IPython.display import clear_output\n",
    "\n",
    "def display_board(board):\n",
    "    clear_output()\n",
    "    print('   |   |   ')\n",
    "    print(' ' + board[7] + ' |' + ' ' + board[8] + ' |' + ' ' + board[9])\n",
    "    print('   |   |   ')\n",
    "    print('-----------')\n",
    "    print('   |   |   ')\n",
    "    print(' ' + board[4] + ' |' + ' ' + board[5] + ' |' + ' ' + board[6])\n",
    "    print('   |   |   ')\n",
    "    print('-----------')\n",
    "    print('   |   |   ')\n",
    "    print(' ' + board[1] + ' |' + ' ' + board[2] + ' |' + ' ' + board[3])\n",
    "    print('   |   |   ')"
   ]
  },
  {
   "cell_type": "code",
   "execution_count": 94,
   "id": "cea00b9b",
   "metadata": {},
   "outputs": [
    {
     "name": "stdout",
     "output_type": "stream",
     "text": [
      "   |   |   \n",
      " X | O | X\n",
      "   |   |   \n",
      "-----------\n",
      "   |   |   \n",
      " O | X | O\n",
      "   |   |   \n",
      "-----------\n",
      "   |   |   \n",
      " X | O | X\n",
      "   |   |   \n"
     ]
    }
   ],
   "source": [
    "test_board = ['#','X','O','X','O','X','O','X','O','X']\n",
    "display_board(test_board)"
   ]
  },
  {
   "cell_type": "code",
   "execution_count": 95,
   "id": "7668c1f8",
   "metadata": {},
   "outputs": [],
   "source": [
    "def player_input():\n",
    "    #this will alow us to use tuple unpacking\n",
    "    '''\n",
    "    OUTPUT = (Player 1 marker, Player 2 marker) \n",
    "    '''\n",
    "    marker = ''\n",
    "    \n",
    "    while marker != 'X' and marker != 'O':\n",
    "        marker = input(\"Player 1: Choose X or O \").upper()\n",
    "        \n",
    "    if marker == 'X':\n",
    "        return ('X','O')\n",
    "    else:\n",
    "        return ('O','X')"
   ]
  },
  {
   "cell_type": "code",
   "execution_count": 96,
   "id": "6a53ba99",
   "metadata": {
    "scrolled": true
   },
   "outputs": [
    {
     "name": "stdout",
     "output_type": "stream",
     "text": [
      "Player 1: Choose X or O X\n"
     ]
    }
   ],
   "source": [
    "player1_marker, player2_marker = player_input()"
   ]
  },
  {
   "cell_type": "code",
   "execution_count": 97,
   "id": "1cbfa994",
   "metadata": {},
   "outputs": [
    {
     "data": {
      "text/plain": [
       "'O'"
      ]
     },
     "execution_count": 97,
     "metadata": {},
     "output_type": "execute_result"
    }
   ],
   "source": [
    "player2_marker"
   ]
  },
  {
   "cell_type": "code",
   "execution_count": 98,
   "id": "d948d668",
   "metadata": {},
   "outputs": [],
   "source": [
    "def place_marker(board, marker, position):\n",
    "    \n",
    "    board[position] = marker"
   ]
  },
  {
   "cell_type": "code",
   "execution_count": 104,
   "id": "029d2c93",
   "metadata": {},
   "outputs": [
    {
     "name": "stdout",
     "output_type": "stream",
     "text": [
      "   |   |   \n",
      " X | & | X\n",
      "   |   |   \n",
      "-----------\n",
      "   |   |   \n",
      " O | X | O\n",
      "   |   |   \n",
      "-----------\n",
      "   |   |   \n",
      " X | O | X\n",
      "   |   |   \n"
     ]
    }
   ],
   "source": [
    "place_marker(test_board,'&',8)\n",
    "display_board(test_board)"
   ]
  },
  {
   "cell_type": "code",
   "execution_count": 105,
   "id": "d6b7522b",
   "metadata": {},
   "outputs": [],
   "source": [
    "def win_check(board, mark):\n",
    "    \n",
    "    return ((board[1] == board[2] == board[3] == mark) or\n",
    "    (board[4] == board[5] == board[6] == mark) or\n",
    "    (board[7] == board[8] == board[9] == mark) or\n",
    "    (board[1] == board[4] == board[7] == mark) or\n",
    "    (board[2] == board[5] == board[8] == mark) or\n",
    "    (board[3] == board[6] == board[9] == mark) or\n",
    "    (board[3] == board[5] == board[7] == mark) or\n",
    "    (board[1] == board[5] == board[9] == mark))\n"
   ]
  },
  {
   "cell_type": "code",
   "execution_count": 106,
   "id": "135496bc",
   "metadata": {},
   "outputs": [
    {
     "name": "stdout",
     "output_type": "stream",
     "text": [
      "   |   |   \n",
      " X | & | X\n",
      "   |   |   \n",
      "-----------\n",
      "   |   |   \n",
      " O | X | O\n",
      "   |   |   \n",
      "-----------\n",
      "   |   |   \n",
      " X | O | X\n",
      "   |   |   \n"
     ]
    },
    {
     "data": {
      "text/plain": [
       "True"
      ]
     },
     "execution_count": 106,
     "metadata": {},
     "output_type": "execute_result"
    }
   ],
   "source": [
    "display_board(test_board)\n",
    "win_check(test_board,'X')"
   ]
  },
  {
   "cell_type": "code",
   "execution_count": 107,
   "id": "a23c85e9",
   "metadata": {},
   "outputs": [],
   "source": [
    "import random #for to see who goes first\n",
    "\n",
    "def choose_first():\n",
    "    \n",
    "    flip = random.randint(0,1)\n",
    "    \n",
    "    if flip == '0':\n",
    "        return 'Player 1'\n",
    "    else:\n",
    "        return 'Player 2'"
   ]
  },
  {
   "cell_type": "code",
   "execution_count": 108,
   "id": "691064d5",
   "metadata": {},
   "outputs": [],
   "source": [
    "#to check if space on the board is free or not\n",
    "def check_space(board, position):\n",
    "    \n",
    "    return board[position] == ' '"
   ]
  },
  {
   "cell_type": "code",
   "execution_count": 109,
   "id": "91923f4b",
   "metadata": {},
   "outputs": [],
   "source": [
    "#to check if space on the board is full or not\n",
    "def fullboard_check(board):\n",
    "    \n",
    "    for i in range (1,10):\n",
    "        if check_space(board,i):\n",
    "            return False\n",
    "    return True"
   ]
  },
  {
   "cell_type": "code",
   "execution_count": 119,
   "id": "8ef1a481",
   "metadata": {},
   "outputs": [],
   "source": [
    "def player_choice(board):\n",
    "    \n",
    "    position = 0\n",
    "    \n",
    "    while position not in [1,2,3,4,5,6,7,8,9] or not check_space(board,position):\n",
    "        position = int(input(\"Choose a position: (1-9)\"))\n",
    "    \n",
    "    return position"
   ]
  },
  {
   "cell_type": "code",
   "execution_count": 111,
   "id": "18cadd6c",
   "metadata": {},
   "outputs": [
    {
     "name": "stdout",
     "output_type": "stream",
     "text": [
      "Choose a position: (1-9)1\n",
      "Choose a position: (1-9)2\n",
      "Choose a position: (1-9)3\n",
      "Choose a position: (1-9)4\n",
      "Choose a position: (1-9)5\n",
      "Choose a position: (1-9)6\n",
      "Choose a position: (1-9)7\n",
      "Choose a position: (1-9)8\n",
      "Choose a position: (1-9)9\n",
      "Choose a position: (1-9)hello\n"
     ]
    },
    {
     "ename": "ValueError",
     "evalue": "invalid literal for int() with base 10: 'hello'",
     "output_type": "error",
     "traceback": [
      "\u001b[1;31m---------------------------------------------------------------------------\u001b[0m",
      "\u001b[1;31mValueError\u001b[0m                                Traceback (most recent call last)",
      "Input \u001b[1;32mIn [111]\u001b[0m, in \u001b[0;36m<cell line: 1>\u001b[1;34m()\u001b[0m\n\u001b[1;32m----> 1\u001b[0m \u001b[43mplayer_choice\u001b[49m\u001b[43m(\u001b[49m\u001b[43mtest_board\u001b[49m\u001b[43m)\u001b[49m\n",
      "Input \u001b[1;32mIn [110]\u001b[0m, in \u001b[0;36mplayer_choice\u001b[1;34m(board)\u001b[0m\n\u001b[0;32m      3\u001b[0m position \u001b[38;5;241m=\u001b[39m \u001b[38;5;241m0\u001b[39m\n\u001b[0;32m      5\u001b[0m \u001b[38;5;28;01mwhile\u001b[39;00m position \u001b[38;5;129;01mnot\u001b[39;00m \u001b[38;5;129;01min\u001b[39;00m [\u001b[38;5;241m1\u001b[39m,\u001b[38;5;241m2\u001b[39m,\u001b[38;5;241m3\u001b[39m,\u001b[38;5;241m4\u001b[39m,\u001b[38;5;241m5\u001b[39m,\u001b[38;5;241m6\u001b[39m,\u001b[38;5;241m7\u001b[39m,\u001b[38;5;241m8\u001b[39m,\u001b[38;5;241m9\u001b[39m] \u001b[38;5;129;01mor\u001b[39;00m \u001b[38;5;129;01mnot\u001b[39;00m check_space(board,position):\n\u001b[1;32m----> 6\u001b[0m     position \u001b[38;5;241m=\u001b[39m \u001b[38;5;28;43mint\u001b[39;49m\u001b[43m(\u001b[49m\u001b[38;5;28;43minput\u001b[39;49m\u001b[43m(\u001b[49m\u001b[38;5;124;43m\"\u001b[39;49m\u001b[38;5;124;43mChoose a position: (1-9)\u001b[39;49m\u001b[38;5;124;43m\"\u001b[39;49m\u001b[43m)\u001b[49m\u001b[43m)\u001b[49m\n\u001b[0;32m      8\u001b[0m \u001b[38;5;28;01mreturn\u001b[39;00m position\n",
      "\u001b[1;31mValueError\u001b[0m: invalid literal for int() with base 10: 'hello'"
     ]
    }
   ],
   "source": [
    "player_choice(test_board)"
   ]
  },
  {
   "cell_type": "code",
   "execution_count": 70,
   "id": "c5adf975",
   "metadata": {},
   "outputs": [],
   "source": [
    "def replay():\n",
    "    \n",
    "    choice = input(\"Play again? Enter Yes or No\")\n",
    "    \n",
    "    return choice == 'Yes'"
   ]
  },
  {
   "cell_type": "code",
   "execution_count": 117,
   "id": "75e204c8",
   "metadata": {
    "scrolled": true
   },
   "outputs": [
    {
     "name": "stdout",
     "output_type": "stream",
     "text": [
      "   |   |   \n",
      " O | X | O\n",
      "   |   |   \n",
      "-----------\n",
      "   |   |   \n",
      " X | O |  \n",
      "   |   |   \n",
      "-----------\n",
      "   |   |   \n",
      " O |   | X\n",
      "   |   |   \n",
      "Player 2 Wins\n",
      "Play again? Enter Yes or NoNo\n"
     ]
    }
   ],
   "source": [
    "print(\"Welcome to Tic Tac Toe\")\n",
    "\n",
    "while True:\n",
    "    \n",
    "    the_board = [' ',' ',' ',' ',' ',' ',' ',' ',' ',' ']    #[' ']*10\n",
    "    player1_marker, player2_marker = player_input()\n",
    "    \n",
    "    turn = choose_first()\n",
    "    print(turn + ' will go first')\n",
    "    \n",
    "    play_game = input('Ready to play? y or n?')\n",
    "    \n",
    "    if  play_game == 'y':\n",
    "        game_on = True\n",
    "    else:\n",
    "        game_on = False\n",
    "        \n",
    "    while game_on:\n",
    "        if turn == 'Player 1':\n",
    "            \n",
    "            display_board(the_board)\n",
    "            position = player_choice(the_board)\n",
    "            place_marker(the_board, player1_marker, position)\n",
    "            \n",
    "            if win_check(the_board, player1_marker):\n",
    "                display_board(the_board)\n",
    "                print('Player 1 Wins')\n",
    "                game_on = False\n",
    "            else:\n",
    "                if fullboard_check(the_board):\n",
    "                    display_board(the_board)\n",
    "                    print('Tie Game!')\n",
    "                    game_on = False\n",
    "                else:\n",
    "                    turn = 'Player 2'\n",
    "        else:\n",
    "            \n",
    "            display_board(the_board)\n",
    "            position = player_choice(the_board)\n",
    "            place_marker(the_board, player2_marker, position)\n",
    "            \n",
    "            if win_check(the_board, player2_marker):\n",
    "                display_board(the_board)\n",
    "                print('Player 2 Wins')\n",
    "                game_on = False\n",
    "            else:\n",
    "                if fullboard_check(the_board):\n",
    "                    display_board(the_board)\n",
    "                    print('Tie Game!')\n",
    "                    game_on = False\n",
    "                else:\n",
    "                    turn = 'Player 1'\n",
    "    if not replay():\n",
    "        break    "
   ]
  },
  {
   "cell_type": "code",
   "execution_count": null,
   "id": "6503887f",
   "metadata": {},
   "outputs": [],
   "source": []
  }
 ],
 "metadata": {
  "kernelspec": {
   "display_name": "Python 3 (ipykernel)",
   "language": "python",
   "name": "python3"
  },
  "language_info": {
   "codemirror_mode": {
    "name": "ipython",
    "version": 3
   },
   "file_extension": ".py",
   "mimetype": "text/x-python",
   "name": "python",
   "nbconvert_exporter": "python",
   "pygments_lexer": "ipython3",
   "version": "3.9.12"
  }
 },
 "nbformat": 4,
 "nbformat_minor": 5
}
